{
 "cells": [
  {
   "cell_type": "markdown",
   "metadata": {},
   "source": [
    "Design a genetic algorithm to solve the polynomial fitting problem that we did in Homework #1. You need to implement a genetic algorithm using BOTH mutation AND crossover operations. You need to decide a mutation rate and crossover rate.\n",
    "\n",
    "Plot the following in one figure: 1. the original noisy data, 2. the polynomial you obtained in Homework #1 and 3. the polynomial obtained from this implementation. Compare and discuss the difference in performance of the two polynomials obtained with two different methods."
   ]
  },
  {
   "cell_type": "code",
   "execution_count": 46,
   "metadata": {},
   "outputs": [
    {
     "data": {
      "image/png": "[encoded data removed]",
      "text/plain": [
       "<Figure size 640x480 with 1 Axes>"
      ]
     },
     "metadata": {},
     "output_type": "display_data"
    }
   ],
   "source": [
    "#Step 1: Plot the original noisy data.\n",
    "import matplotlib.pyplot as plt\n",
    "import numpy as np\n",
    "\n",
    "noise_scale = 100\n",
    "number_of_samples = 50\n",
    "x = 25 * (np.random.rand(number_of_samples, 1) - 0.8)\n",
    "y = 5 * x + 20 * x**2 + 1 * x**3 + noise_scale * np.random.randn(number_of_samples, 1)\n",
    "plt.plot(x, y, 'ro')\n",
    "\n",
    "#Step 2: Plot the polynomial from Hw 1\n",
    "coefficients = np.polyfit(x.flatten(), y.flatten(), 3)\n",
    "polynomial = np.poly1d(coefficients)\n",
    "plt.plot(x, polynomial(x), 'bo')\n",
    "\n",
    "#Step 3: Plot the polynomial from genetic algorithm\n",
    "\n",
    "#Create Population\n",
    "populationSize = 100\n",
    "degree = len(x) - 1\n",
    "population = []\n",
    "for i in range(populationSize):\n",
    "    population.append(np.random.rand(degree + 1))\n",
    "\n",
    "#Begin genetic algorithm\n",
    "generations = 100\n",
    "crossover = 0.8\n",
    "mutation = 0.1\n",
    "scores = []\n",
    "for i in range(generations):\n",
    "\n",
    "    scores = []\n",
    "    #Test Fitness\n",
    "    for j in population:\n",
    "        predicted = np.polyval(j, x)\n",
    "        error = np.sum((predicted - y)**2)\n",
    "        scores.append(-error)\n",
    "\n",
    "    #Select individuals based on fitness\n",
    "    selectedIndices = np.argsort(scores)[-int(crossover * populationSize):]\n",
    "    selectedPopulation = []\n",
    "    for j in selectedIndices:\n",
    "        selectedPopulation.append(population[j])\n",
    "\n",
    "    offspring = []\n",
    "    #Perform crossover\n",
    "    for j in range(populationSize - len(selectedPopulation)):\n",
    "        indices = np.random.randint(0, len(selectedPopulation), size = 2)\n",
    "        p1 = selectedPopulation[indices[0]]\n",
    "        p2 = selectedPopulation[indices[1]]\n",
    "        p1 = p1.flatten()\n",
    "        p2 = p2.flatten()\n",
    "        a = np.random.rand()\n",
    "        child = a * p1 + (1 - a) * p2\n",
    "\n",
    "        #perform mutation\n",
    "        mask = np.random.rand(len(child)) < mutation\n",
    "        perturbations = 0.1 * np.random.randn(len(child))\n",
    "        child += mask * perturbations\n",
    "        offspring.append(child)\n",
    "    \n",
    "    Population = selectedPopulation + offspring\n",
    "best = Population[np.argmax(scores)]\n",
    "\n",
    "xRange = np.linspace(0, 50)\n",
    "yBest = np.polyval(best, x)\n",
    "\n",
    "plt.plot(xRange, yBest, 'yo')\n",
    "plt.show()\n",
    "\n",
    "    \n",
    "\n",
    "        \n",
    "\n",
    "\n",
    "\n",
    "\n",
    "\n",
    "\n",
    "\n"
   ]
  },
  {
   "cell_type": "markdown",
   "metadata": {},
   "source": [
    "While the genetic algorithm has worse performance to to its repeated amount of iterations, its result is much more accurate than the previous method of plotting the polynomial."
   ]
  }
 ],
 "metadata": {
  "kernelspec": {
   "display_name": "myenv",
   "language": "python",
   "name": "python3"
  },
  "language_info": {
   "codemirror_mode": {
    "name": "ipython",
    "version": 3
   },
   "file_extension": ".py",
   "mimetype": "text/x-python",
   "name": "python",
   "nbconvert_exporter": "python",
   "pygments_lexer": "ipython3",
   "version": "3.12.3"
  }
 },
 "nbformat": 4,
 "nbformat_minor": 2
}
